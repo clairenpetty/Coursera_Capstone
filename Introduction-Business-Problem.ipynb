{
 "cells": [
  {
   "cell_type": "markdown",
   "metadata": {},
   "source": [
    "# Hungry Kids and the LA County School Shutdown Admit COVID-19 Pandemic"
   ]
  },
  {
   "cell_type": "markdown",
   "metadata": {},
   "source": [
    "## Introduction/Business Problem"
   ]
  },
  {
   "cell_type": "markdown",
   "metadata": {},
   "source": [
    "In efforts to control the spread of the new highly infectious coronavirus, LAUSD, the nation's second largest school district has cancelled on-campus attendance indefinitely. Expanding this to the entire Los Angeles county indicates that over 1 million school-aged children who had qualified for free or reduced-price meals at schools may now go hungry."
   ]
  },
  {
   "cell_type": "markdown",
   "metadata": {},
   "source": [
    "The question is, what are the areas of most impact of the school closures so that alternative meal distribution sites can be set up to concentrate on those areas. As such, LA county school districts and non-profit organisations would find this information very useful for quick and effective action in meeting the needs of LA's kids facing long term and extreme food poverty."
   ]
  },
  {
   "cell_type": "markdown",
   "metadata": {},
   "source": [
    "## Data"
   ]
  },
  {
   "cell_type": "markdown",
   "metadata": {},
   "source": [
    "Using California's FRPM School-Level Data and school district information, the areas of greatest impact i.e. greatest concentrations of school-age children that may now be experiencing extreme food poverty without access to school-meals. Additionally, the Foursquare location data can be leveraged to find facilities local to the target areas and visualise how pop-up food distribution points may be set up with accessibility in mind, while ahering to the WHO recommendations for limiting the spread of the virus."
   ]
  },
  {
   "cell_type": "markdown",
   "metadata": {},
   "source": [
    "The school-level data on student eligibility for free or reduced-price meals was sourced from California Department of Education via https://www.cde.ca.gov/ds/sd/sd/documents/frpm1819.xlsx, last accessed 17 March 2020. This dataset contains the number and percentage of students whom are eligible for the state's free or reduced-price meals program (FRPM) for each school within the state of California. A subset of LA county schools was pulled from this dataset for this project. The school district information was also sourced from California Department of Education via https://www.cde.ca.gov/SchoolDirectory/report?rid=dl1&tp=xlsx&ict=Y, last accessed 17 March 2020, which contains the addresses of each school in the state. The Foursquare API was utilised to locate nearby facilities within the identified areas of greatest impact of LA county school closures with regard to food instability/poverty."
   ]
  }
 ],
 "metadata": {
  "kernelspec": {
   "display_name": "Python 3",
   "language": "python",
   "name": "python3"
  },
  "language_info": {
   "codemirror_mode": {
    "name": "ipython",
    "version": 3
   },
   "file_extension": ".py",
   "mimetype": "text/x-python",
   "name": "python",
   "nbconvert_exporter": "python",
   "pygments_lexer": "ipython3",
   "version": "3.7.4"
  }
 },
 "nbformat": 4,
 "nbformat_minor": 2
}
